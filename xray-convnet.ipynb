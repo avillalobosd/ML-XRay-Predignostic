{
 "cells": [
  {
   "cell_type": "code",
   "execution_count": 1,
   "metadata": {},
   "outputs": [],
   "source": [
    "import numpy as np\n",
    "import matplotlib.pyplot as plt\n",
    "import os \n",
    "import cv2\n",
    "\n",
    "from tensorflow import keras\n",
    "from tensorflow.keras.models import Sequential\n",
    "from tensorflow.keras.utils import to_categorical\n",
    "from tensorflow.keras.layers import Dense\n"
   ]
  },
  {
   "cell_type": "code",
   "execution_count": 2,
   "metadata": {},
   "outputs": [],
   "source": [
    "# CONVOLUTIONAL NETWORK\n",
    "from tensorflow.keras.layers import Dropout, Flatten\n",
    "from tensorflow.keras.layers import Conv2D, MaxPooling2D"
   ]
  },
  {
   "cell_type": "code",
   "execution_count": 3,
   "metadata": {},
   "outputs": [],
   "source": [
    "DATADIR = \"chest_xray/train\"\n",
    "\n",
    "CATEGORIES= [\"NORMAL\", \"PNEUMONIA\"]\n",
    "originalTrain=[]\n",
    "grayTrain=[]\n",
    "training_data=[]\n",
    "label_data=[]\n",
    "\n",
    "for category in CATEGORIES:\n",
    "    path=os.path.join(DATADIR, category)\n",
    "    class_num=CATEGORIES.index(category)\n",
    "    # print(os.listdir(path))\n",
    "    for img in os.listdir(path):\n",
    "        originalImage=cv2.imread(os.path.join(path,img))\n",
    "        grayImage = cv2.cvtColor(originalImage, cv2.COLOR_BGR2GRAY)\n",
    "        (thresh, blackAndWhiteImage) = cv2.threshold(grayImage, 127, 255, cv2.THRESH_BINARY)\n",
    "        img_array=blackAndWhiteImage\n",
    "        new_array = cv2.resize(img_array, (100, 100))\n",
    "        training_data.append([new_array])\n",
    "        gray_new_array = cv2.resize(grayImage, (100, 100))\n",
    "        grayTrain.append([gray_new_array])\n",
    "        original_new_array = cv2.resize(originalImage, (100, 100))\n",
    "        originalTrain.append([original_new_array])\n",
    "        label_data.append([class_num])"
   ]
  },
  {
   "cell_type": "code",
   "execution_count": 4,
   "metadata": {},
   "outputs": [],
   "source": [
    "X_train=[]\n",
    "y_train=[]"
   ]
  },
  {
   "cell_type": "code",
   "execution_count": 5,
   "metadata": {},
   "outputs": [],
   "source": [
    "for image in grayTrain:\n",
    "    X_train.append(image)\n",
    "#     y_train.append(category)"
   ]
  },
  {
   "cell_type": "code",
   "execution_count": 6,
   "metadata": {},
   "outputs": [
    {
     "name": "stdout",
     "output_type": "stream",
     "text": [
      "(5216, 100, 100)\n",
      "(5216, 1)\n"
     ]
    }
   ],
   "source": [
    "X_train= np.array(X_train).reshape(-1,100,100)\n",
    "y_train = np.array(label_data)\n",
    "print(X_train.shape)\n",
    "print(y_train.shape)"
   ]
  },
  {
   "cell_type": "code",
   "execution_count": 7,
   "metadata": {
    "scrolled": false
   },
   "outputs": [
    {
     "data": {
      "text/plain": [
       "<matplotlib.image.AxesImage at 0x1ea4e225bc8>"
      ]
     },
     "execution_count": 7,
     "metadata": {},
     "output_type": "execute_result"
    },
    {
     "data": {
      "image/png": "[encoded data removed]",
      "text/plain": [
       "<Figure size 432x288 with 1 Axes>"
      ]
     },
     "metadata": {
      "needs_background": "light"
     },
     "output_type": "display_data"
    }
   ],
   "source": [
    "plt.imshow(X_train[0,:,:], cmap=plt.cm.Greys)"
   ]
  },
  {
   "cell_type": "code",
   "execution_count": 8,
   "metadata": {
    "scrolled": true
   },
   "outputs": [
    {
     "data": {
      "text/plain": [
       "array([[22, 18, 24, ..., 94, 93, 93],\n",
       "       [19, 20, 14, ..., 97, 93, 90],\n",
       "       [20, 19, 15, ..., 94, 91, 88],\n",
       "       ...,\n",
       "       [29, 29, 29, ..., 21, 23, 24],\n",
       "       [30, 27, 26, ..., 43, 46, 45],\n",
       "       [38, 36, 37, ..., 86, 89, 91]], dtype=uint8)"
      ]
     },
     "execution_count": 8,
     "metadata": {},
     "output_type": "execute_result"
    }
   ],
   "source": [
    "# Our image is an array of pixels ranging from 0 to 255\n",
    "X_train[0, :, :]"
   ]
  },
  {
   "cell_type": "code",
   "execution_count": 9,
   "metadata": {
    "scrolled": true
   },
   "outputs": [
    {
     "name": "stdout",
     "output_type": "stream",
     "text": [
      "(5216, 100, 100)\n"
     ]
    }
   ],
   "source": [
    "print(X_train.shape)"
   ]
  },
  {
   "cell_type": "code",
   "execution_count": 10,
   "metadata": {},
   "outputs": [
    {
     "name": "stdout",
     "output_type": "stream",
     "text": [
      "Training Shape: (5216, 10000)\n",
      "Training Data Labels Shape: (5216,)\n",
      "[22 18 24 ... 86 89 91]\n"
     ]
    }
   ],
   "source": [
    "# We want to flatten our image of 28x28 pixels to a 1D array of 10000 pixels\n",
    "ndims = X_train.shape[1] * X_train.shape[2]\n",
    "X_train = X_train.reshape(X_train.shape[0], ndims)\n",
    "\n",
    "y_train = y_train.reshape(-1,)\n",
    "\n",
    "print(\"Training Shape:\", X_train.shape)\n",
    "print(\"Training Data Labels Shape:\", y_train.shape)\n",
    "print(X_train[0])"
   ]
  },
  {
   "cell_type": "code",
   "execution_count": 11,
   "metadata": {},
   "outputs": [],
   "source": [
    "# Next, we normalize our training data to be between 0 and 1\n",
    "\n",
    "from sklearn.preprocessing import MinMaxScaler\n",
    "scaler = MinMaxScaler().fit(X_train)\n",
    "\n",
    "X_train = scaler.transform(X_train)"
   ]
  },
  {
   "cell_type": "code",
   "execution_count": 36,
   "metadata": {},
   "outputs": [
    {
     "data": {
      "text/plain": [
       "(5216, 2, 2)"
      ]
     },
     "execution_count": 36,
     "metadata": {},
     "output_type": "execute_result"
    }
   ],
   "source": [
    "# We need to convert our target labels (expected values) to categorical data\n",
    "num_classes = 2\n",
    "y_train = to_categorical(y_train, num_classes)\n",
    "y_train[0]\n",
    "y_train.shape"
   ]
  },
  {
   "cell_type": "code",
   "execution_count": 13,
   "metadata": {},
   "outputs": [],
   "source": [
    "# convolutional network\n",
    "\n",
    "img_size = 100\n",
    "X_train = np.array(X_train).reshape(-1, img_size, img_size, 1)\n",
    "\n",
    "\n",
    "model = Sequential()\n",
    "model.add(Conv2D(32, kernel_size=(5, 5), activation='relu', input_shape=X_train.shape[1:]))\n",
    "model.add(MaxPooling2D(pool_size=(2, 2)))\n",
    "model.add(Dropout(0.2))\n",
    "\n",
    "model.add(Flatten())\n",
    "\n",
    "model.add(Dense(128, activation='relu'))\n",
    "model.add(Dense(num_classes, activation='softmax'))\n",
    "\n",
    "model.compile(loss=keras.losses.categorical_crossentropy,\n",
    "              optimizer=keras.optimizers.Adam(),\n",
    "              metrics=['accuracy'])"
   ]
  },
  {
   "cell_type": "code",
   "execution_count": 14,
   "metadata": {
    "scrolled": false
   },
   "outputs": [
    {
     "name": "stdout",
     "output_type": "stream",
     "text": [
      "Model: \"sequential\"\n",
      "_________________________________________________________________\n",
      "Layer (type)                 Output Shape              Param #   \n",
      "=================================================================\n",
      "conv2d (Conv2D)              (None, 96, 96, 32)        832       \n",
      "_________________________________________________________________\n",
      "max_pooling2d (MaxPooling2D) (None, 48, 48, 32)        0         \n",
      "_________________________________________________________________\n",
      "dropout (Dropout)            (None, 48, 48, 32)        0         \n",
      "_________________________________________________________________\n",
      "flatten (Flatten)            (None, 73728)             0         \n",
      "_________________________________________________________________\n",
      "dense (Dense)                (None, 128)               9437312   \n",
      "_________________________________________________________________\n",
      "dense_1 (Dense)              (None, 2)                 258       \n",
      "=================================================================\n",
      "Total params: 9,438,402\n",
      "Trainable params: 9,438,402\n",
      "Non-trainable params: 0\n",
      "_________________________________________________________________\n"
     ]
    }
   ],
   "source": [
    "model.summary()"
   ]
  },
  {
   "cell_type": "code",
   "execution_count": 15,
   "metadata": {
    "scrolled": false
   },
   "outputs": [
    {
     "name": "stdout",
     "output_type": "stream",
     "text": [
      "Epoch 1/10\n",
      "41/41 - 24s - loss: 0.4422 - accuracy: 0.7997\n",
      "Epoch 2/10\n",
      "41/41 - 24s - loss: 0.1121 - accuracy: 0.9578\n",
      "Epoch 3/10\n",
      "41/41 - 25s - loss: 0.0768 - accuracy: 0.9730\n",
      "Epoch 4/10\n",
      "41/41 - 27s - loss: 0.0654 - accuracy: 0.9770\n",
      "Epoch 5/10\n",
      "41/41 - 27s - loss: 0.0558 - accuracy: 0.9780\n",
      "Epoch 6/10\n",
      "41/41 - 25s - loss: 0.0401 - accuracy: 0.9866\n",
      "Epoch 7/10\n",
      "41/41 - 25s - loss: 0.0287 - accuracy: 0.9906\n",
      "Epoch 8/10\n",
      "41/41 - 24s - loss: 0.0275 - accuracy: 0.9906\n",
      "Epoch 9/10\n",
      "41/41 - 24s - loss: 0.0208 - accuracy: 0.9944\n",
      "Epoch 10/10\n",
      "41/41 - 25s - loss: 0.0170 - accuracy: 0.9965\n"
     ]
    },
    {
     "data": {
      "text/plain": [
       "<tensorflow.python.keras.callbacks.History at 0x1ea6ab94788>"
      ]
     },
     "execution_count": 15,
     "metadata": {},
     "output_type": "execute_result"
    }
   ],
   "source": [
    "# Fit (train) the model\n",
    "model.fit(\n",
    "    X_train,\n",
    "    y_train,\n",
    "    batch_size=128,\n",
    "    epochs=10,\n",
    "    shuffle=True,\n",
    "    verbose=2\n",
    ")"
   ]
  },
  {
   "cell_type": "code",
   "execution_count": 16,
   "metadata": {},
   "outputs": [
    {
     "name": "stdout",
     "output_type": "stream",
     "text": [
      "163/163 - 9s - loss: 0.0124 - accuracy: 0.9992\n"
     ]
    }
   ],
   "source": [
    "test_loss, test_acc = model.evaluate(X_train,  y_train, verbose=2)"
   ]
  },
  {
   "cell_type": "code",
   "execution_count": 93,
   "metadata": {},
   "outputs": [],
   "source": [
    "#model.save(\"xray_convNet.h5\")"
   ]
  },
  {
   "cell_type": "code",
   "execution_count": 18,
   "metadata": {},
   "outputs": [],
   "source": [
    "# from tensorflow.keras.models import load_model\n",
    "# model = load_model(\"xray_class.h5\")"
   ]
  },
  {
   "cell_type": "code",
   "execution_count": 17,
   "metadata": {},
   "outputs": [],
   "source": [
    "TEST_DATADIR = \"chest_xray/test\"\n",
    "\n",
    "TEST_CATEGORIES= [\"NORMAL\", \"PNEUMONIA\"]\n",
    "originalTest=[]\n",
    "grayTest=[]\n",
    "test_data=[]\n",
    "test_label_data=[]\n",
    "\n",
    "for category in TEST_CATEGORIES:\n",
    "    path=os.path.join(TEST_DATADIR, category)\n",
    "    class_num=CATEGORIES.index(category)\n",
    "    # print(os.listdir(path))\n",
    "    for img in os.listdir(path):\n",
    "        originalImage=cv2.imread(os.path.join(path,img))\n",
    "        grayImage = cv2.cvtColor(originalImage, cv2.COLOR_BGR2GRAY)\n",
    "        (thresh, blackAndWhiteImage) = cv2.threshold(grayImage, 127, 255, cv2.THRESH_BINARY)\n",
    "        img_array=blackAndWhiteImage\n",
    "        new_array = cv2.resize(img_array, (100, 100))\n",
    "        test_data.append([new_array])\n",
    "        gray_new_array = cv2.resize(grayImage, (100, 100))\n",
    "        grayTest.append([gray_new_array])\n",
    "        original_new_array = cv2.resize(originalImage, (100, 100))\n",
    "        originalTest.append([original_new_array])\n",
    "        test_label_data.append([class_num])"
   ]
  },
  {
   "cell_type": "code",
   "execution_count": 18,
   "metadata": {},
   "outputs": [],
   "source": [
    "X_test=[]\n",
    "y_test=[]\n",
    "\n",
    "for image in grayTest:\n",
    "    X_test.append(image)\n",
    "\n",
    "X_test = np.array(X_test).reshape(-1,100,100)\n",
    "y_test = np.array(test_label_data)\n",
    "\n",
    "ndims = X_test.shape[1] * X_test.shape[2]\n",
    "X_test = X_test.reshape(X_test.shape[0], ndims)\n",
    "\n",
    "y_test = y_test.reshape(-1,)\n",
    "\n",
    "\n",
    "scaler = MinMaxScaler().fit(X_test)\n",
    "X_test = scaler.transform(X_test)\n",
    "\n",
    "num_classes = 2\n",
    "y_test = to_categorical(y_test, num_classes)\n"
   ]
  },
  {
   "cell_type": "code",
   "execution_count": 19,
   "metadata": {},
   "outputs": [],
   "source": [
    "# CONVOLUTIONAL NETWORK\n",
    "\n",
    "X_test = np.array(X_test).reshape(-1, img_size, img_size, 1)\n"
   ]
  },
  {
   "cell_type": "code",
   "execution_count": 20,
   "metadata": {},
   "outputs": [
    {
     "name": "stdout",
     "output_type": "stream",
     "text": [
      "(5216, 100, 100, 1)\n",
      "(5216, 2)\n",
      "(624, 100, 100, 1)\n",
      "(624, 2)\n"
     ]
    }
   ],
   "source": [
    "print(X_train.shape)\n",
    "print(y_train.shape)\n",
    "print(X_test.shape)\n",
    "print(y_test.shape)"
   ]
  },
  {
   "cell_type": "code",
   "execution_count": 29,
   "metadata": {},
   "outputs": [
    {
     "name": "stdout",
     "output_type": "stream",
     "text": [
      "20/20 - 1s - loss: 0.7860 - accuracy: 0.7981\n"
     ]
    }
   ],
   "source": [
    "predictions = model.evaluate(X_test,  y_test, verbose=2)"
   ]
  },
  {
   "cell_type": "code",
   "execution_count": 30,
   "metadata": {
    "scrolled": true
   },
   "outputs": [],
   "source": [
    "#plt.imshow(scaler.inverse_transform(test).reshape(100, 100), cmap=plt.cm.Greys)"
   ]
  },
  {
   "cell_type": "code",
   "execution_count": 31,
   "metadata": {
    "scrolled": false
   },
   "outputs": [
    {
     "name": "stdout",
     "output_type": "stream",
     "text": [
      "One-Hot-Encoded Prediction: [[0. 1.]]\n",
      "Predicted class: [1]\n"
     ]
    }
   ],
   "source": [
    "test = np.expand_dims(X_test[0], axis=0)\n",
    "print(f\"One-Hot-Encoded Prediction: {model.predict(test).round()}\")\n",
    "print(f\"Predicted class: {model.predict_classes(test)}\")"
   ]
  },
  {
   "cell_type": "code",
   "execution_count": 32,
   "metadata": {
    "scrolled": true
   },
   "outputs": [
    {
     "name": "stdout",
     "output_type": "stream",
     "text": [
      "One-Hot-Encoded Prediction: [[0. 1.]]\n",
      "Predicted class: [1]\n"
     ]
    }
   ],
   "source": [
    "test = np.expand_dims(X_test[350], axis=0)\n",
    "print(f\"One-Hot-Encoded Prediction: {model.predict(test).round()}\")\n",
    "print(f\"Predicted class: {model.predict_classes(test)}\")"
   ]
  },
  {
   "cell_type": "code",
   "execution_count": 33,
   "metadata": {},
   "outputs": [
    {
     "name": "stdout",
     "output_type": "stream",
     "text": [
      "One-Hot-Encoded Prediction: [[0. 1.]]\n",
      "Predicted class: [1]\n"
     ]
    }
   ],
   "source": [
    "test = np.expand_dims(X_test[200], axis=0)\n",
    "print(f\"One-Hot-Encoded Prediction: {model.predict(test).round()}\")\n",
    "print(f\"Predicted class: {model.predict_classes(test)}\")"
   ]
  },
  {
   "cell_type": "code",
   "execution_count": 34,
   "metadata": {},
   "outputs": [
    {
     "name": "stdout",
     "output_type": "stream",
     "text": [
      "One-Hot-Encoded Prediction: [[1. 0.]]\n",
      "Predicted class: [0]\n"
     ]
    }
   ],
   "source": [
    "test = np.expand_dims(X_test[150], axis=0)\n",
    "print(f\"One-Hot-Encoded Prediction: {model.predict(test).round()}\")\n",
    "print(f\"Predicted class: {model.predict_classes(test)}\")"
   ]
  },
  {
   "cell_type": "code",
   "execution_count": 35,
   "metadata": {},
   "outputs": [
    {
     "name": "stdout",
     "output_type": "stream",
     "text": [
      "One-Hot-Encoded Prediction: [[1. 0.]]\n",
      "Predicted class: [0]\n"
     ]
    }
   ],
   "source": [
    "test = np.expand_dims(X_test[100], axis=0)\n",
    "print(f\"One-Hot-Encoded Prediction: {model.predict(test).round()}\")\n",
    "print(f\"Predicted class: {model.predict_classes(test)}\")"
   ]
  },
  {
   "cell_type": "code",
   "execution_count": null,
   "metadata": {},
   "outputs": [],
   "source": []
  }
 ],
 "metadata": {
  "kernelspec": {
   "display_name": "Python 3",
   "language": "python",
   "name": "python3"
  },
  "language_info": {
   "codemirror_mode": {
    "name": "ipython",
    "version": 3
   },
   "file_extension": ".py",
   "mimetype": "text/x-python",
   "name": "python",
   "nbconvert_exporter": "python",
   "pygments_lexer": "ipython3",
   "version": "3.7.4"
  }
 },
 "nbformat": 4,
 "nbformat_minor": 2
}
